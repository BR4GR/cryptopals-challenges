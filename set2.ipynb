{
 "cells": [
  {
   "cell_type": "markdown",
   "metadata": {},
   "source": [
    "# Crypto Challenge Set 2\n",
    "\n",
    "https://cryptopals.com/sets/2\n"
   ]
  },
  {
   "cell_type": "markdown",
   "metadata": {},
   "source": [
    "## Implement PKCS#7 padding\n",
    "\n",
    "A block cipher transforms a fixed-sized block (usually 8 or 16 bytes) of plaintext into ciphertext. But we almost never want to transform a single block; we encrypt irregularly-sized messages.\n",
    "\n",
    "One way we account for irregularly-sized messages is by padding, creating a plaintext that is an even multiple of the blocksize. The most popular padding scheme is called PKCS#7.\n",
    "\n",
    "So: pad any block to a specific block length, by appending the number of bytes of padding to the end of the block. For instance,\n",
    "\n",
    "\"YELLOW SUBMARINE\"\n",
    "... padded to 20 bytes would be:\n",
    "\n",
    "\"YELLOW SUBMARINE\\x04\\x04\\x04\\x04\""
   ]
  },
  {
   "cell_type": "code",
   "execution_count": 1,
   "metadata": {},
   "outputs": [
    {
     "name": "stdout",
     "output_type": "stream",
     "text": [
      "b'YELLOW SUBMARINE\\x04\\x04\\x04\\x04'\n",
      "b'YELLOW SUBMARINE'\n",
      "b'YELLOW SUBMARIN\\x01'\n"
     ]
    }
   ],
   "source": [
    "def unpad_pkcs7(data: bytes, block_size: int = 16) -> bytes:\n",
    "    if len(data) % block_size != 0:\n",
    "        raise ValueError(\"Data is not a multiple of the block size; invalid padding.\")\n",
    "    \n",
    "    padding_length = data[-1]\n",
    "    \n",
    "    if padding_length < 1 or padding_length > block_size:\n",
    "        raise ValueError(\"Invalid padding length\")\n",
    "    \n",
    "    # Verify that all padding bytes match the padding length\n",
    "    if data[-padding_length:] != bytes([padding_length]) * padding_length:\n",
    "        raise ValueError(\"Invalid padding bytes\")\n",
    "    \n",
    "    return data[:-padding_length]\n",
    "\n",
    "\n",
    "def pad_pkcs7(data: bytes, block_size: int = 16) -> bytes:\n",
    "    modulo = len(data) % block_size\n",
    "    if modulo > 0:\n",
    "        missing = block_size - modulo\n",
    "        data = data + (bytes([missing])*missing)\n",
    "    return data\n",
    "\n",
    "print(pad_pkcs7(b\"YELLOW SUBMARINE\", 20))\n",
    "print(pad_pkcs7(b\"YELLOW SUBMARINE\"))\n",
    "print(pad_pkcs7(b\"YELLOW SUBMARIN\"))"
   ]
  },
  {
   "cell_type": "code",
   "execution_count": null,
   "metadata": {},
   "outputs": [],
   "source": []
  }
 ],
 "metadata": {
  "kernelspec": {
   "display_name": "cryptopals-challenges-kaOzGuGr-py3.12",
   "language": "python",
   "name": "python3"
  },
  "language_info": {
   "codemirror_mode": {
    "name": "ipython",
    "version": 3
   },
   "file_extension": ".py",
   "mimetype": "text/x-python",
   "name": "python",
   "nbconvert_exporter": "python",
   "pygments_lexer": "ipython3",
   "version": "3.12.4"
  }
 },
 "nbformat": 4,
 "nbformat_minor": 2
}
