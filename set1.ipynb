{
 "cells": [
  {
   "cell_type": "markdown",
   "metadata": {},
   "source": [
    "# the cryptopals crypto challenges Set 1"
   ]
  },
  {
   "cell_type": "markdown",
   "metadata": {},
   "source": [
    "## Convert hex to base64\n",
    "\n",
    "The string:\n",
    "49276d206b696c6c696e6720796f757220627261696e206c696b65206120706f69736f6e6f7573206d757368726f6f6d\n",
    "\n",
    "Should produce:\n",
    "SSdtIGtpbGxpbmcgeW91ciBicmFpbiBsaWtlIGEgcG9pc29ub3VzIG11c2hyb29t\n",
    "\n",
    "So go ahead and make that happen. You'll need to use this code for the rest of the exercises.\n",
    "\n",
    "### Cryptopals Rule!!\n",
    "Always operate on raw bytes, never on encoded strings. Only use hex and base64 for pretty-printing."
   ]
  },
  {
   "cell_type": "code",
   "execution_count": 8,
   "metadata": {},
   "outputs": [
    {
     "name": "stdout",
     "output_type": "stream",
     "text": [
      "SSdtIGtpbGxpbmcgeW91ciBicmFpbiBsaWtlIGEgcG9pc29ub3VzIG11c2hyb29t\n",
      "True\n"
     ]
    }
   ],
   "source": [
    "import base64\n",
    "import string\n",
    "\n",
    "\n",
    "hexstring = '49276d206b696c6c696e6720796f757220627261696e206c696b65206120706f69736f6e6f7573206d757368726f6f6d'\n",
    "base64string = 'SSdtIGtpbGxpbmcgeW91ciBicmFpbiBsaWtlIGEgcG9pc29ub3VzIG11c2hyb29t'\n",
    "\n",
    "def hex_to_base46(hex_string: string) -> string:\n",
    "    raw_bytes = bytes.fromhex(hex_string)\n",
    "    return base64.b64encode(raw_bytes).decode()\n",
    "\n",
    "res = hex_to_base46(hexstring)\n",
    "print(res)\n",
    "print(f'{res == base64string}')"
   ]
  },
  {
   "cell_type": "markdown",
   "metadata": {},
   "source": [
    "## Fixed XOR\n",
    "\n",
    "Write a function that takes two equal-length buffers and produces their XOR combination.\n",
    "\n",
    "If your function works properly, then when you feed it the string:\n",
    "\n",
    "1c0111001f010100061a024b53535009181c\n",
    "\n",
    "... after hex decoding, and when XOR'd against:\n",
    "\n",
    "686974207468652062756c6c277320657965\n",
    "\n",
    "... should produce:\n",
    "\n",
    "746865206b696420646f6e277420706c6179"
   ]
  },
  {
   "cell_type": "code",
   "execution_count": 16,
   "metadata": {},
   "outputs": [
    {
     "name": "stdout",
     "output_type": "stream",
     "text": [
      "746865206b696420646f6e277420706c6179\n",
      "True\n"
     ]
    }
   ],
   "source": [
    "buffer_1 = '1c0111001f010100061a024b53535009181c'\n",
    "buffer_2 ='686974207468652062756c6c277320657965'\n",
    "expected_result = '746865206b696420646f6e277420706c6179'\n",
    "\n",
    "def xor_hex_strings(hex_string_1: string, hex_string_2: string) -> string:\n",
    "    raw_bytes_1 = bytes.fromhex(hex_string_1)\n",
    "    raw_bytes_2 = bytes.fromhex(hex_string_2)\n",
    "    res = bytes(x ^ y for x ,y  in zip(raw_bytes_1, raw_bytes_2))\n",
    "    return res.hex()\n",
    "\n",
    "res = xor_hex_strings(buffer_1, buffer_2)\n",
    "print(res)\n",
    "print(expected_result == res)"
   ]
  },
  {
   "cell_type": "code",
   "execution_count": null,
   "metadata": {},
   "outputs": [],
   "source": []
  }
 ],
 "metadata": {
  "kernelspec": {
   "display_name": "cryptopals-challenges-kaOzGuGr-py3.12",
   "language": "python",
   "name": "python3"
  },
  "language_info": {
   "codemirror_mode": {
    "name": "ipython",
    "version": 3
   },
   "file_extension": ".py",
   "mimetype": "text/x-python",
   "name": "python",
   "nbconvert_exporter": "python",
   "pygments_lexer": "ipython3",
   "version": "3.12.4"
  }
 },
 "nbformat": 4,
 "nbformat_minor": 2
}
