{
 "cells": [
  {
   "cell_type": "markdown",
   "metadata": {},
   "source": [
    "# the cryptopals crypto challenges Set 1"
   ]
  },
  {
   "cell_type": "markdown",
   "metadata": {},
   "source": [
    "## Convert hex to base64\n",
    "\n",
    "The string:\n",
    "49276d206b696c6c696e6720796f757220627261696e206c696b65206120706f69736f6e6f7573206d757368726f6f6d\n",
    "\n",
    "Should produce:\n",
    "SSdtIGtpbGxpbmcgeW91ciBicmFpbiBsaWtlIGEgcG9pc29ub3VzIG11c2hyb29t\n",
    "\n",
    "So go ahead and make that happen. You'll need to use this code for the rest of the exercises.\n",
    "\n",
    "### Cryptopals Rule!!\n",
    "Always operate on raw bytes, never on encoded strings. Only use hex and base64 for pretty-printing."
   ]
  },
  {
   "cell_type": "code",
   "execution_count": 1,
   "metadata": {},
   "outputs": [
    {
     "name": "stdout",
     "output_type": "stream",
     "text": [
      "SSdtIGtpbGxpbmcgeW91ciBicmFpbiBsaWtlIGEgcG9pc29ub3VzIG11c2hyb29t\n",
      "True\n"
     ]
    }
   ],
   "source": [
    "import base64\n",
    "\n",
    "\n",
    "hexstring = '49276d206b696c6c696e6720796f757220627261696e206c696b65206120706f69736f6e6f7573206d757368726f6f6d'\n",
    "base64string = 'SSdtIGtpbGxpbmcgeW91ciBicmFpbiBsaWtlIGEgcG9pc29ub3VzIG11c2hyb29t'\n",
    "\n",
    "def hex_to_base46(hex_string: str) -> str:\n",
    "    raw_bytes = bytes.fromhex(hex_string)\n",
    "    return base64.b64encode(raw_bytes).decode()\n",
    "\n",
    "res = hex_to_base46(hexstring)\n",
    "print(res)\n",
    "print(f'{res == base64string}')"
   ]
  },
  {
   "cell_type": "markdown",
   "metadata": {},
   "source": [
    "## Fixed XOR\n",
    "\n",
    "Write a function that takes two equal-length buffers and produces their XOR combination.\n",
    "\n",
    "If your function works properly, then when you feed it the string:\n",
    "\n",
    "1c0111001f010100061a024b53535009181c\n",
    "\n",
    "... after hex decoding, and when XOR'd against:\n",
    "\n",
    "686974207468652062756c6c277320657965\n",
    "\n",
    "... should produce:\n",
    "\n",
    "746865206b696420646f6e277420706c6179"
   ]
  },
  {
   "cell_type": "code",
   "execution_count": 2,
   "metadata": {},
   "outputs": [
    {
     "name": "stdout",
     "output_type": "stream",
     "text": [
      "746865206b696420646f6e277420706c6179\n",
      "True\n"
     ]
    }
   ],
   "source": [
    "buffer_1 = '1c0111001f010100061a024b53535009181c'\n",
    "buffer_2 ='686974207468652062756c6c277320657965'\n",
    "expected_result = '746865206b696420646f6e277420706c6179'\n",
    "\n",
    "def xor_hex_strings(hex_string_1: str, hex_string_2: str) -> str:\n",
    "    if len(hex_string_1) != len(hex_string_2):\n",
    "        raise ValueError(\"Input hex strings must have the same length.\")\n",
    "\n",
    "    raw_bytes_1 = bytes.fromhex(hex_string_1)\n",
    "    raw_bytes_2 = bytes.fromhex(hex_string_2)\n",
    "    res = bytes(x ^ y for x ,y  in zip(raw_bytes_1, raw_bytes_2))\n",
    "    return res.hex()\n",
    "\n",
    "res = xor_hex_strings(buffer_1, buffer_2)\n",
    "print(res)\n",
    "print(expected_result == res)"
   ]
  },
  {
   "cell_type": "markdown",
   "metadata": {},
   "source": [
    "## Single-byte XOR cipher\n",
    "\n",
    "The hex encoded string:\n",
    "\n",
    "1b37373331363f78151b7f2b783431333d78397828372d363c78373e783a393b3736\n",
    "\n",
    "... has been XOR'd against a single character. Find the key, decrypt the message.\n",
    "\n",
    "You can do this by hand. But don't: write code to do it for you.\n",
    "\n",
    "How? Devise some method for \"scoring\" a piece of English plaintext. Character frequency is a good metric. Evaluate each output and choose the one with the best score."
   ]
  },
  {
   "cell_type": "code",
   "execution_count": 3,
   "metadata": {},
   "outputs": [
    {
     "name": "stdout",
     "output_type": "stream",
     "text": [
      "Cooking MC's like a pound of bacon\n",
      "88\n",
      "X\n",
      "character: e, score: 12.702\n",
      "character: t, score: 9.056\n",
      "character: a, score: 8.167\n",
      "character: o, score: 7.507\n",
      "character: i, score: 6.966\n",
      "character: n, score: 6.749\n",
      "character:  , score: 13.0\n",
      "character: s, score: 6.327\n",
      "character: h, score: 6.094\n",
      "character: r, score: 5.987\n",
      "character: d, score: 4.253\n",
      "character: l, score: 4.025\n",
      "character: u, score: 2.758\n"
     ]
    }
   ],
   "source": [
    "\n",
    "\n",
    "hex_string = '1b37373331363f78151b7f2b783431333d78397828372d363c78373e783a393b3736'\n",
    "\n",
    "english_freq = {\n",
    "    'a': 8.167, 'b': 1.492, 'c': 2.782, 'd': 4.253, 'e': 12.702,\n",
    "    'f': 2.228, 'g': 2.015, 'h': 6.094, 'i': 6.966, 'j': 0.153,\n",
    "    'k': 0.772, 'l': 4.025, 'm': 2.406, 'n': 6.749, 'o': 7.507,\n",
    "    'p': 1.929, 'q': 0.095, 'r': 5.987, 's': 6.327, 't': 9.056,\n",
    "    'u': 2.758, 'v': 0.978, 'w': 2.360, 'x': 0.150, 'y': 1.974,\n",
    "    'z': 0.074, ' ': 13.000  # Including space as it's common in English text\n",
    "}\n",
    "\n",
    "def score_text_on_character_frequency( text: str ) -> float:\n",
    "    return sum( english_freq.get(char, 0) for char in text )\n",
    "\n",
    "def single_byte_xor_decrypt( text_bytes: bytes, key: int ) -> bytes:\n",
    "    return bytes( byte ^ key for byte in text_bytes )\n",
    "\n",
    "def guess_xor_key(hex_cypher_text: str) -> tuple[str, int, float]:\n",
    "    raw_byes = bytes.fromhex(hex_cypher_text)\n",
    "    best_text = ''\n",
    "    best_key = 0\n",
    "    best_score = 0\n",
    "\n",
    "    for i in range(256):\n",
    "        try:\n",
    "            decrypted = single_byte_xor_decrypt(raw_byes, i)\n",
    "            text = decrypted.decode()\n",
    "            score = score_text_on_character_frequency(text)\n",
    "            if score > best_score:\n",
    "                best_score = score\n",
    "                best_text = text\n",
    "                best_key = i\n",
    "        except UnicodeDecodeError:\n",
    "            continue\n",
    "    return best_text, best_key, best_score\n",
    "\n",
    "\n",
    "text, key, score = guess_xor_key(hex_string)\n",
    "print(text)\n",
    "print(key)\n",
    "print(key.to_bytes().decode())\n",
    "\n",
    "post = 'ETAOIN SHRDLU'.lower()\n",
    "\n",
    "for c in post:\n",
    "    print(f\"character: {c}, score: {english_freq[c]}\")"
   ]
  },
  {
   "cell_type": "markdown",
   "metadata": {},
   "source": [
    "\n",
    "\n",
    "## Detect single-character XOR\n",
    "\n",
    "One of the 60-character strings in this 4.txt has been encrypted by single-character XOR.\n",
    "\n",
    "Find it."
   ]
  },
  {
   "cell_type": "code",
   "execution_count": 4,
   "metadata": {},
   "outputs": [
    {
     "name": "stdout",
     "output_type": "stream",
     "text": [
      "Now that the party is jumping\n",
      "\n"
     ]
    }
   ],
   "source": [
    "with open('4.txt') as file:\n",
    "    lines = [line.rstrip() for line in file]\n",
    "\n",
    "decoded = [guess_xor_key(line) for line in lines]\n",
    "sorted_decoded = sorted(decoded, key=lambda x: x[2], reverse=True)\n",
    "print(sorted_decoded[0][0])"
   ]
  }
 ],
 "metadata": {
  "kernelspec": {
   "display_name": "cryptopals-challenges-kaOzGuGr-py3.12",
   "language": "python",
   "name": "python3"
  },
  "language_info": {
   "codemirror_mode": {
    "name": "ipython",
    "version": 3
   },
   "file_extension": ".py",
   "mimetype": "text/x-python",
   "name": "python",
   "nbconvert_exporter": "python",
   "pygments_lexer": "ipython3",
   "version": "3.12.4"
  }
 },
 "nbformat": 4,
 "nbformat_minor": 2
}
