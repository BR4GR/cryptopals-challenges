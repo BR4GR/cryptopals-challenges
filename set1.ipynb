{
 "cells": [
  {
   "cell_type": "markdown",
   "metadata": {},
   "source": [
    "# the cryptopals crypto challenges Set 1"
   ]
  },
  {
   "cell_type": "markdown",
   "metadata": {},
   "source": [
    "## Convert hex to base64\n",
    "\n",
    "The string:\n",
    "49276d206b696c6c696e6720796f757220627261696e206c696b65206120706f69736f6e6f7573206d757368726f6f6d\n",
    "\n",
    "Should produce:\n",
    "SSdtIGtpbGxpbmcgeW91ciBicmFpbiBsaWtlIGEgcG9pc29ub3VzIG11c2hyb29t\n",
    "\n",
    "So go ahead and make that happen. You'll need to use this code for the rest of the exercises.\n",
    "\n",
    "### Cryptopals Rule!!\n",
    "Always operate on raw bytes, never on encoded strings. Only use hex and base64 for pretty-printing."
   ]
  },
  {
   "cell_type": "code",
   "execution_count": 8,
   "metadata": {},
   "outputs": [
    {
     "name": "stdout",
     "output_type": "stream",
     "text": [
      "SSdtIGtpbGxpbmcgeW91ciBicmFpbiBsaWtlIGEgcG9pc29ub3VzIG11c2hyb29t\n",
      "True\n"
     ]
    }
   ],
   "source": [
    "import base64\n",
    "import string\n",
    "\n",
    "\n",
    "hexstring = '49276d206b696c6c696e6720796f757220627261696e206c696b65206120706f69736f6e6f7573206d757368726f6f6d'\n",
    "base64string = 'SSdtIGtpbGxpbmcgeW91ciBicmFpbiBsaWtlIGEgcG9pc29ub3VzIG11c2hyb29t'\n",
    "\n",
    "def hex_to_base46(hex_string: string) -> string:\n",
    "    raw_bytes = bytes.fromhex(hex_string)\n",
    "    return base64.b64encode(raw_bytes).decode()\n",
    "\n",
    "res = hex_to_base46(hexstring)\n",
    "print(res)\n",
    "print(f'{res == base64string}')"
   ]
  },
  {
   "cell_type": "code",
   "execution_count": null,
   "metadata": {},
   "outputs": [],
   "source": []
  }
 ],
 "metadata": {
  "kernelspec": {
   "display_name": "cryptopals-challenges-kaOzGuGr-py3.12",
   "language": "python",
   "name": "python3"
  },
  "language_info": {
   "codemirror_mode": {
    "name": "ipython",
    "version": 3
   },
   "file_extension": ".py",
   "mimetype": "text/x-python",
   "name": "python",
   "nbconvert_exporter": "python",
   "pygments_lexer": "ipython3",
   "version": "3.12.4"
  }
 },
 "nbformat": 4,
 "nbformat_minor": 2
}
