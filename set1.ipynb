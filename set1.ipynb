{
 "cells": [
  {
   "cell_type": "markdown",
   "metadata": {},
   "source": [
    "# the cryptopals crypto challenges Set 1"
   ]
  },
  {
   "cell_type": "markdown",
   "metadata": {},
   "source": [
    "## Convert hex to base64\n",
    "\n",
    "The string:\n",
    "49276d206b696c6c696e6720796f757220627261696e206c696b65206120706f69736f6e6f7573206d757368726f6f6d\n",
    "\n",
    "Should produce:\n",
    "SSdtIGtpbGxpbmcgeW91ciBicmFpbiBsaWtlIGEgcG9pc29ub3VzIG11c2hyb29t\n",
    "\n",
    "So go ahead and make that happen. You'll need to use this code for the rest of the exercises.\n",
    "\n",
    "### Cryptopals Rule!!\n",
    "Always operate on raw bytes, never on encoded strings. Only use hex and base64 for pretty-printing."
   ]
  },
  {
   "cell_type": "code",
   "execution_count": 1,
   "metadata": {},
   "outputs": [
    {
     "name": "stdout",
     "output_type": "stream",
     "text": [
      "SSdtIGtpbGxpbmcgeW91ciBicmFpbiBsaWtlIGEgcG9pc29ub3VzIG11c2hyb29t\n",
      "True\n"
     ]
    }
   ],
   "source": [
    "import base64\n",
    "\n",
    "\n",
    "hexstring = '49276d206b696c6c696e6720796f757220627261696e206c696b65206120706f69736f6e6f7573206d757368726f6f6d'\n",
    "base64string = 'SSdtIGtpbGxpbmcgeW91ciBicmFpbiBsaWtlIGEgcG9pc29ub3VzIG11c2hyb29t'\n",
    "\n",
    "def hex_to_base46(hex_string: str) -> str:\n",
    "    raw_bytes = bytes.fromhex(hex_string)\n",
    "    return base64.b64encode(raw_bytes).decode()\n",
    "\n",
    "res = hex_to_base46(hexstring)\n",
    "print(res)\n",
    "print(f'{res == base64string}')"
   ]
  },
  {
   "cell_type": "markdown",
   "metadata": {},
   "source": [
    "## Fixed XOR\n",
    "\n",
    "Write a function that takes two equal-length buffers and produces their XOR combination.\n",
    "\n",
    "If your function works properly, then when you feed it the string:\n",
    "\n",
    "1c0111001f010100061a024b53535009181c\n",
    "\n",
    "... after hex decoding, and when XOR'd against:\n",
    "\n",
    "686974207468652062756c6c277320657965\n",
    "\n",
    "... should produce:\n",
    "\n",
    "746865206b696420646f6e277420706c6179"
   ]
  },
  {
   "cell_type": "code",
   "execution_count": 2,
   "metadata": {},
   "outputs": [
    {
     "name": "stdout",
     "output_type": "stream",
     "text": [
      "746865206b696420646f6e277420706c6179\n",
      "True\n"
     ]
    }
   ],
   "source": [
    "buffer_1 = '1c0111001f010100061a024b53535009181c'\n",
    "buffer_2 ='686974207468652062756c6c277320657965'\n",
    "expected_result = '746865206b696420646f6e277420706c6179'\n",
    "\n",
    "def xor_hex_strings(hex_string_1: str, hex_string_2: str) -> str:\n",
    "    if len(hex_string_1) != len(hex_string_2):\n",
    "        raise ValueError(\"Input hex strings must have the same length.\")\n",
    "\n",
    "    raw_bytes_1 = bytes.fromhex(hex_string_1)\n",
    "    raw_bytes_2 = bytes.fromhex(hex_string_2)\n",
    "    res = bytes(x ^ y for x ,y  in zip(raw_bytes_1, raw_bytes_2))\n",
    "    return res.hex()\n",
    "\n",
    "res = xor_hex_strings(buffer_1, buffer_2)\n",
    "print(res)\n",
    "print(expected_result == res)"
   ]
  },
  {
   "cell_type": "markdown",
   "metadata": {},
   "source": [
    "## Single-byte XOR cipher\n",
    "\n",
    "The hex encoded string:\n",
    "\n",
    "1b37373331363f78151b7f2b783431333d78397828372d363c78373e783a393b3736\n",
    "\n",
    "... has been XOR'd against a single character. Find the key, decrypt the message.\n",
    "\n",
    "You can do this by hand. But don't: write code to do it for you.\n",
    "\n",
    "How? Devise some method for \"scoring\" a piece of English plaintext. Character frequency is a good metric. Evaluate each output and choose the one with the best score."
   ]
  },
  {
   "cell_type": "code",
   "execution_count": 3,
   "metadata": {},
   "outputs": [
    {
     "name": "stdout",
     "output_type": "stream",
     "text": [
      "Cooking MC's like a pound of bacon\n",
      "88\n",
      "X\n"
     ]
    }
   ],
   "source": [
    "\n",
    "\n",
    "hex_string = '1b37373331363f78151b7f2b783431333d78397828372d363c78373e783a393b3736'\n",
    "\n",
    "english_freq = {\n",
    "    'a': 8.167, 'b': 1.492, 'c': 2.782, 'd': 4.253, 'e': 12.702,\n",
    "    'f': 2.228, 'g': 2.015, 'h': 6.094, 'i': 6.966, 'j': 0.153,\n",
    "    'k': 0.772, 'l': 4.025, 'm': 2.406, 'n': 6.749, 'o': 7.507,\n",
    "    'p': 1.929, 'q': 0.095, 'r': 5.987, 's': 6.327, 't': 9.056,\n",
    "    'u': 2.758, 'v': 0.978, 'w': 2.360, 'x': 0.150, 'y': 1.974,\n",
    "    'z': 0.074, ' ': 13.000  # Including space as it's common in English text\n",
    "}\n",
    "\n",
    "def score_text_on_character_frequency( text: str ) -> float:\n",
    "    return sum( english_freq.get(char, 0) for char in text )\n",
    "\n",
    "def single_byte_xor_decrypt( text_bytes: bytes, key: int ) -> bytes:\n",
    "    return bytes( byte ^ key for byte in text_bytes )\n",
    "\n",
    "def guess_xor_key(raw_byes: str) -> tuple[str, int, float]:\n",
    "    best_text = ''\n",
    "    best_key = 0\n",
    "    best_score = 0\n",
    "\n",
    "    for i in range(256):\n",
    "        try:\n",
    "            decrypted = single_byte_xor_decrypt(raw_byes, i)\n",
    "            text = decrypted.decode()\n",
    "            score = score_text_on_character_frequency(text)\n",
    "            if score > best_score:\n",
    "                best_score = score\n",
    "                best_text = text\n",
    "                best_key = i\n",
    "        except UnicodeDecodeError:\n",
    "            continue\n",
    "    return best_text, best_key, best_score\n",
    "\n",
    "\n",
    "text, key, score = guess_xor_key(bytes.fromhex(hex_string))\n",
    "print(text)\n",
    "print(key)\n",
    "print(key.to_bytes().decode())"
   ]
  },
  {
   "cell_type": "markdown",
   "metadata": {},
   "source": [
    "\n",
    "\n",
    "## Detect single-character XOR\n",
    "\n",
    "One of the 60-character strings in this 4.txt has been encrypted by single-character XOR.\n",
    "\n",
    "Find it."
   ]
  },
  {
   "cell_type": "code",
   "execution_count": 4,
   "metadata": {},
   "outputs": [
    {
     "name": "stdout",
     "output_type": "stream",
     "text": [
      "Now that the party is jumping\n",
      "\n"
     ]
    }
   ],
   "source": [
    "with open('4.txt') as file:\n",
    "    lines = [line.rstrip() for line in file]\n",
    "\n",
    "decoded = [guess_xor_key(bytes.fromhex(line)) for line in lines]\n",
    "sorted_decoded = sorted(decoded, key=lambda x: x[2], reverse=True)\n",
    "print(sorted_decoded[0][0])"
   ]
  },
  {
   "cell_type": "markdown",
   "metadata": {},
   "source": [
    "## Implement repeating-key XOR\n",
    "\n",
    "Here is the opening stanza of an important work of the English language:\n",
    "\n",
    "Burning 'em, if you ain't quick and nimble\n",
    "I go crazy when I hear a cymbal\n",
    "Encrypt it, under the key \"ICE\", using repeating-key XOR.\n",
    "\n",
    "In repeating-key XOR, you'll sequentially apply each byte of the key; the first byte of plaintext will be XOR'd against I, the next C, the next E, then I again for the 4th byte, and so on.\n",
    "\n",
    "It should come out to:\n",
    "\n",
    "0b3637272a2b2e63622c2e69692a23693a2a3c6324202d623d63343c2a26226324272765272a282b2f20430a652e2c652a3124333a653e2b2027630c692b20283165286326302e27282f\n",
    "\n",
    "Encrypt a bunch of stuff using your repeating-key XOR function. Encrypt your mail. Encrypt your password file. Your .sig file. Get a feel for it. I promise, we aren't wasting your time with this."
   ]
  },
  {
   "cell_type": "code",
   "execution_count": 5,
   "metadata": {},
   "outputs": [
    {
     "name": "stdout",
     "output_type": "stream",
     "text": [
      "0b3637272a2b2e63622c2e69692a23693a2a3c6324202d623d63343c2a26226324272765272a282b2f20430a652e2c652a3124333a653e2b2027630c692b20283165286326302e27282f\n",
      "True\n"
     ]
    }
   ],
   "source": [
    "plain_text = \"Burning 'em, if you ain't quick and nimble\\nI go crazy when I hear a cymbal\"\n",
    "expected_cyphertext =\"0b3637272a2b2e63622c2e69692a23693a2a3c6324202d623d63343c2a26226324272765272a282b2f20430a652e2c652a3124333a653e2b2027630c692b20283165286326302e27282f\"\n",
    "encryption_key = 'ICE'\n",
    "\n",
    "\n",
    "def repeating_key_xor_encrypter( text_bytes: bytes, key_bytes: bytes ) -> str:\n",
    "    res = []\n",
    "    for i in range(len(text_bytes)):\n",
    "        tb = text_bytes[i]\n",
    "        # modulo needed to repeat the key\n",
    "        kb = key_bytes[(i % len(key_bytes))]\n",
    "        encoded_char = tb ^ kb\n",
    "        # XOR results are represented in hex to provide a clear, consistent, readable format.\n",
    "        res.append(f'{encoded_char:02x}')\n",
    "    return ''.join(res)\n",
    "\n",
    "\n",
    "res = repeating_key_xor_encrypter(plain_text.encode(), encryption_key.encode())\n",
    "print(res)\n",
    "print(res == expected_cyphertext)"
   ]
  },
  {
   "cell_type": "markdown",
   "metadata": {},
   "source": [
    "## Break repeating-key XOR\n",
    "\n",
    "It is officially on, now.\n",
    "This challenge isn't conceptually hard, but it involves actual error-prone coding. The other challenges in this set are there to bring you up to speed. This one is there to qualify you. If you can do this one, you're probably just fine up to Set 6.\n",
    "\n",
    "6.txt has been base64'd after being encrypted with repeating-key XOR.\n",
    "\n",
    "Decrypt it.\n",
    "\n",
    "This code is going to turn out to be surprisingly useful later on. Breaking repeating-key XOR (\"Vigenere\") statistically is obviously an academic exercise, a \"Crypto 101\" thing. But more people \"know how\" to break it than can actually break it, and a similar technique breaks something much more important.\n",
    "\n",
    "Here's how:\n",
    "\n",
    "1. Let KEYSIZE be the guessed length of the key; try values from 2 to (say) 40.\n",
    "\n",
    "2. Write a function to compute the edit distance/Hamming distance between two strings. The Hamming distance is just the number of differing bits. The distance between:\n",
    "`this is a test`\n",
    "and\n",
    "`wokka wokka!!!`\n",
    "is `'37'`. Make sure your code agrees before you proceed."
   ]
  },
  {
   "cell_type": "code",
   "execution_count": 6,
   "metadata": {},
   "outputs": [
    {
     "name": "stdout",
     "output_type": "stream",
     "text": [
      "37\n",
      "True\n"
     ]
    }
   ],
   "source": [
    "test_input1 ='this is a test'\n",
    "test_input2 ='wokka wokka!!!'\n",
    "expected_test_result = 37\n",
    "\n",
    "def compute_hamming_distance(bytes_1: bytes, bytes_2: bytes) -> int:\n",
    "    if len(bytes_1) != len(bytes_2):\n",
    "        raise ValueError(\"Strings must be of equal length\")\n",
    "    \n",
    "    distance = 0\n",
    "    for b1, b2 in zip(bytes_1, bytes_2):\n",
    "        # XOR the bytes and count the number of 1 bits\n",
    "        xor_result = b1 ^ b2\n",
    "        distance += bin(xor_result).count('1')\n",
    "\n",
    "    return distance\n",
    "\n",
    "res = compute_hamming_distance(test_input1.encode(), test_input2.encode())\n",
    "print(res)\n",
    "print(res == expected_test_result)"
   ]
  },
  {
   "cell_type": "markdown",
   "metadata": {},
   "source": [
    "3. For each KEYSIZE, take the first KEYSIZE worth of bytes, and the second KEYSIZE worth of bytes, and find the edit distance between them. Normalize this result by dividing by KEYSIZE.\n",
    "\n",
    "4. The KEYSIZE with the smallest normalized edit distance is probably the key. You could proceed perhaps with the smallest 2-3 KEYSIZE values. Or take 4 KEYSIZE blocks instead of 2 and average the distances."
   ]
  },
  {
   "cell_type": "code",
   "execution_count": 7,
   "metadata": {},
   "outputs": [
    {
     "name": "stdout",
     "output_type": "stream",
     "text": [
      "average distance = 9241.15\n",
      "guessed key length: 29, with a score of: 7948\n"
     ]
    }
   ],
   "source": [
    "from math import inf\n",
    "\n",
    "\n",
    "with open('6.txt') as f:\n",
    "    data = f.read()\n",
    "\n",
    "data = data.replace('\\n', '')\n",
    "original_bytes = base64.b64decode(data)\n",
    "\n",
    "def guess_key_lenght(encryptet_bytes: bytes) -> int:\n",
    "    sum = 0\n",
    "    MAX_LENGTHT = 40\n",
    "    guessed_length = 1\n",
    "    top_score = inf\n",
    "\n",
    "    for i in range(1, MAX_LENGTHT + 1):\n",
    "        rotated_string = encryptet_bytes[i:] + encryptet_bytes[:i]\n",
    "        score = compute_hamming_distance(rotated_string, encryptet_bytes)\n",
    "        sum += score\n",
    "        if score < top_score:\n",
    "            top_score = score \n",
    "            guessed_length = i\n",
    "    print(f\"average distance = {sum / MAX_LENGTHT}\")\n",
    "    return guessed_length, top_score\n",
    "\n",
    "guessed_key_length, top_score = guess_key_lenght(original_bytes)\n",
    "print(f\"guessed key length: {guessed_key_length}, with a score of: {top_score}\")"
   ]
  },
  {
   "cell_type": "markdown",
   "metadata": {},
   "source": [
    "5. Now that you probably know the KEYSIZE: break the ciphertext into blocks of KEYSIZE length."
   ]
  },
  {
   "cell_type": "code",
   "execution_count": 8,
   "metadata": {},
   "outputs": [
    {
     "name": "stdout",
     "output_type": "stream",
     "text": [
      "b'abc' is 3 bytes long\n",
      "b'123' is 3 bytes long\n",
      "b'*%&' is 3 bytes long\n",
      "b'+' is 1 bytes long\n"
     ]
    }
   ],
   "source": [
    "def split_bytes_into_chunks(data: bytes, chunk_size: int) -> list:\n",
    "    return [data[i:i + chunk_size] for i in range(0, len(data), chunk_size)]\n",
    "\n",
    "encrypted_junks = split_bytes_into_chunks(original_bytes, guessed_key_length)\n",
    "\n",
    "test_data = b\"abc123*%&+\"\n",
    "test_chunks = split_bytes_into_chunks(test_data, 3)\n",
    "\n",
    "for chunk in test_chunks:\n",
    "    print(f\"{chunk} is {len(chunk)} bytes long\")"
   ]
  },
  {
   "cell_type": "markdown",
   "metadata": {},
   "source": [
    "6. Now transpose the blocks: make a block that is the first byte of every block, and a block that is the second byte of every block, and so on."
   ]
  },
  {
   "cell_type": "code",
   "execution_count": 9,
   "metadata": {},
   "outputs": [
    {
     "name": "stdout",
     "output_type": "stream",
     "text": [
      "[b'a1*', b'b2%', b'c3&']\n",
      "[b'a1*+', b'b2%\\x00', b'c3&\\x00']\n"
     ]
    }
   ],
   "source": [
    "def transpose_chunks(\n",
    "        chunks: list[bytes],\n",
    "        fill: bool = False,\n",
    "        fill_byte: bytes = b'\\x00'\n",
    "        ) -> list[bytes]:\n",
    "    if len(chunks[-1]) < len(chunks[0]):\n",
    "        if fill:\n",
    "            chunks[-1] += fill_byte * (len(chunks[0]) - len(chunks[-1]))\n",
    "        else:\n",
    "            chunks = chunks[:-1]\n",
    "    return [bytes(block) for block in zip(*chunks)]\n",
    "\n",
    "print(transpose_chunks(test_chunks))\n",
    "print(transpose_chunks(test_chunks, True))\n",
    "\n",
    "transposed_blocks = transpose_chunks(encrypted_junks)"
   ]
  },
  {
   "cell_type": "markdown",
   "metadata": {},
   "source": [
    "7. Solve each block as if it was single-character XOR. You already have code to do this.\n",
    "\n",
    "8. For each block, the single-byte XOR key that produces the best looking histogram is the repeating-key XOR key byte for that block. Put them together and you have the key."
   ]
  },
  {
   "cell_type": "code",
   "execution_count": 10,
   "metadata": {},
   "outputs": [
    {
     "name": "stdout",
     "output_type": "stream",
     "text": [
      "key!!\n",
      "\n",
      "Terminator X: Bring the noise\n"
     ]
    }
   ],
   "source": [
    "def get_encryption_byte_per_block(encrypted_blocks: list[bytes]) -> list[int]:\n",
    "    keys = []\n",
    "    for block in encrypted_blocks:\n",
    "        _, key, _ = guess_xor_key(block)\n",
    "        keys.append(key)\n",
    "    return keys\n",
    "\n",
    "guessed_keyparts = get_encryption_byte_per_block(transposed_blocks)\n",
    "key = bytes(guessed_keyparts).decode()\n",
    "print('key!!\\n')\n",
    "print(key)"
   ]
  },
  {
   "cell_type": "code",
   "execution_count": 11,
   "metadata": {},
   "outputs": [
    {
     "name": "stdout",
     "output_type": "stream",
     "text": [
      "text!!\n",
      "\n",
      "I'm back and I'm ringin' the bell \n",
      "A rockin' on the mike while the fly girls yell \n",
      "In ecstasy in the back of me \n",
      "Well that's my DJ Deshay cuttin' all them Z's \n",
      "Hittin' hard and the girlies goin' crazy \n",
      "Vanilla's on the mike, man I'm not lazy. \n",
      "\n",
      "I'm lettin' my drug kick in \n",
      "It controls my mouth and I begin \n",
      "To just let it flow, let my concepts go \n",
      "My posse's to the side yellin', Go Vanilla Go! \n",
      "\n",
      "Smooth 'cause that's the way I will be \n",
      "And if you don't give a damn, then \n",
      "Why you starin' at me \n",
      "So get off 'cause I control the stage \n",
      "There's no dissin' allowed \n",
      "I'm in my own phase \n",
      "The girlies sa y they love me and that is ok \n",
      "And I can dance better than any kid n' play \n",
      "\n",
      "Stage 2 -- Yea the one ya' wanna listen to \n",
      "It's off my head so let the beat play through \n",
      "So I can funk it up and make it sound good \n",
      "1-2-3 Yo -- Knock on some wood \n",
      "For good luck, I like my rhymes atrocious \n",
      "Supercalafragilisticexpialidocious \n",
      "I'm an effect and that you can bet \n",
      "I can take a fly girl and make her wet. \n",
      "\n",
      "I'm like Samson -- Samson to Delilah \n",
      "There's no denyin', You can try to hang \n",
      "But you'll keep tryin' to get my style \n",
      "Over and over, practice makes perfect \n",
      "But not if you're a loafer. \n",
      "\n",
      "You'll get nowhere, no place, no time, no girls \n",
      "Soon -- Oh my God, homebody, you probably eat \n",
      "Spaghetti with a spoon! Come on and say it! \n",
      "\n",
      "VIP. Vanilla Ice yep, yep, I'm comin' hard like a rhino \n",
      "Intoxicating so you stagger like a wino \n",
      "So punks stop trying and girl stop cryin' \n",
      "Vanilla Ice is sellin' and you people are buyin' \n",
      "'Cause why the freaks are jockin' like Crazy Glue \n",
      "Movin' and groovin' trying to sing along \n",
      "All through the ghetto groovin' this here song \n",
      "Now you're amazed by the VIP posse. \n",
      "\n",
      "Steppin' so hard like a German Nazi \n",
      "Startled by the bases hittin' ground \n",
      "There's no trippin' on mine, I'm just gettin' down \n",
      "Sparkamatic, I'm hangin' tight like a fanatic \n",
      "You trapped me once and I thought that \n",
      "You might have it \n",
      "So step down and lend me your ear \n",
      "'89 in my time! You, '90 is my year. \n",
      "\n",
      "You're weakenin' fast, YO! and I can tell it \n",
      "Your body's gettin' hot, so, so I can smell it \n",
      "So don't be mad and don't be sad \n",
      "'Cause the lyrics belong to ICE, You can call me Dad \n",
      "You're pitchin' a fit, so step back and endure \n",
      "Let the witch doctor, Ice, do the dance to cure \n",
      "So come up close and don't be square \n",
      "You wanna battle me -- Anytime, anywhere \n",
      "\n",
      "You thought that I was weak, Boy, you're dead wrong \n",
      "So come on, everybody and sing this song \n",
      "\n",
      "Say -- Play that funky music Say, go white boy, go white boy go \n",
      "play that funky music Go white boy, go white boy, go \n",
      "Lay down and boogie and play that funky music till you die. \n",
      "\n",
      "Play that funky music Come on, Come on, let me hear \n",
      "Play that funky music white boy you say it, say it \n",
      "Play that funky music A little louder now \n",
      "Play that funky music, white boy Come on, Come on, Come on \n",
      "Play that funky music \n",
      "\n"
     ]
    }
   ],
   "source": [
    "text = repeating_key_xor_encrypter(original_bytes, key.encode())\n",
    "print('text!!\\n')\n",
    "print(bytes.fromhex(text).decode())"
   ]
  },
  {
   "cell_type": "markdown",
   "metadata": {},
   "source": [
    "## AES in ECB mode\n",
    "\n",
    "The Base64-encoded content in 7.txt file has been encrypted via AES-128 in ECB mode under the key\n",
    "\n",
    "\"YELLOW SUBMARINE\".\n",
    "(case-sensitive, without the quotes; exactly 16 characters; I like \"YELLOW SUBMARINE\" because it's exactly 16 bytes long, and now you do too).\n",
    "\n",
    "Decrypt it. You know the key, after all.\n",
    "\n",
    "Easiest way: use OpenSSL::Cipher and give it AES-128-ECB as the cipher."
   ]
  },
  {
   "cell_type": "code",
   "execution_count": 12,
   "metadata": {},
   "outputs": [
    {
     "name": "stdout",
     "output_type": "stream",
     "text": [
      "I'm back and I'm ringin' the bell \n",
      "A rockin' on the mike while the fly girls yell \n",
      "In ecstasy in the back of me \n",
      "Well that's my DJ Deshay cuttin' all them Z's \n",
      "Hittin' hard and the girlies goin' crazy \n",
      "Vanilla's on the mike, man I'm not lazy. \n",
      "\n",
      "I'm lettin' my drug kick in \n",
      "It controls my mouth and I begin \n",
      "To just let it flow, let my concepts go \n",
      "My posse's to the side yellin', Go Vanilla Go! \n",
      "\n",
      "Smooth 'cause that's the way I will be \n",
      "And if you don't give a damn, then \n",
      "Why you starin' at me \n",
      "So get off 'cause I control the stage \n",
      "There's no dissin' allowed \n",
      "I'm in my own phase \n",
      "The girlies sa y they love me and that is ok \n",
      "And I can dance better than any kid n' play \n",
      "\n",
      "Stage 2 -- Yea the one ya' wanna listen to \n",
      "It's off my head so let the beat play through \n",
      "So I can funk it up and make it sound good \n",
      "1-2-3 Yo -- Knock on some wood \n",
      "For good luck, I like my rhymes atrocious \n",
      "Supercalafragilisticexpialidocious \n",
      "I'm an effect and that you can bet \n",
      "I can take a fly girl and make her wet. \n",
      "\n",
      "I'm like Samson -- Samson to Delilah \n",
      "There's no denyin', You can try to hang \n",
      "But you'll keep tryin' to get my style \n",
      "Over and over, practice makes perfect \n",
      "But not if you're a loafer. \n",
      "\n",
      "You'll get nowhere, no place, no time, no girls \n",
      "Soon -- Oh my God, homebody, you probably eat \n",
      "Spaghetti with a spoon! Come on and say it! \n",
      "\n",
      "VIP. Vanilla Ice yep, yep, I'm comin' hard like a rhino \n",
      "Intoxicating so you stagger like a wino \n",
      "So punks stop trying and girl stop cryin' \n",
      "Vanilla Ice is sellin' and you people are buyin' \n",
      "'Cause why the freaks are jockin' like Crazy Glue \n",
      "Movin' and groovin' trying to sing along \n",
      "All through the ghetto groovin' this here song \n",
      "Now you're amazed by the VIP posse. \n",
      "\n",
      "Steppin' so hard like a German Nazi \n",
      "Startled by the bases hittin' ground \n",
      "There's no trippin' on mine, I'm just gettin' down \n",
      "Sparkamatic, I'm hangin' tight like a fanatic \n",
      "You trapped me once and I thought that \n",
      "You might have it \n",
      "So step down and lend me your ear \n",
      "'89 in my time! You, '90 is my year. \n",
      "\n",
      "You're weakenin' fast, YO! and I can tell it \n",
      "Your body's gettin' hot, so, so I can smell it \n",
      "So don't be mad and don't be sad \n",
      "'Cause the lyrics belong to ICE, You can call me Dad \n",
      "You're pitchin' a fit, so step back and endure \n",
      "Let the witch doctor, Ice, do the dance to cure \n",
      "So come up close and don't be square \n",
      "You wanna battle me -- Anytime, anywhere \n",
      "\n",
      "You thought that I was weak, Boy, you're dead wrong \n",
      "So come on, everybody and sing this song \n",
      "\n",
      "Say -- Play that funky music Say, go white boy, go white boy go \n",
      "play that funky music Go white boy, go white boy, go \n",
      "Lay down and boogie and play that funky music till you die. \n",
      "\n",
      "Play that funky music Come on, Come on, let me hear \n",
      "Play that funky music white boy you say it, say it \n",
      "Play that funky music A little louder now \n",
      "Play that funky music, white boy Come on, Come on, Come on \n",
      "Play that funky music \n",
      "\n"
     ]
    }
   ],
   "source": [
    "from cryptography.hazmat.primitives.ciphers import Cipher, algorithms, modes\n",
    "from cryptography.hazmat.backends import default_backend\n",
    "\n",
    "\n",
    "with open('7.txt') as f:\n",
    "    data = f.read()\n",
    "\n",
    "data = data.replace('\\n', '')\n",
    "original_bytes = base64.b64decode(data)\n",
    "\n",
    "\n",
    "def decrypt_aes_ecb(ciphertext: bytes, key: bytes) -> bytes:\n",
    "    cipher = Cipher(algorithms.AES(key), modes.ECB(), backend=default_backend())\n",
    "    decryptor = cipher.decryptor()\n",
    "    return decryptor.update(ciphertext) + decryptor.finalize()\n",
    "\n",
    "def unpad_pkcs7(data: bytes, block_size: int = 16) -> bytes:\n",
    "    if len(data) % block_size != 0:\n",
    "        raise ValueError(\"Data is not a multiple of the block size; invalid padding.\")\n",
    "    \n",
    "    padding_length = data[-1]\n",
    "    \n",
    "    if padding_length < 1 or padding_length > block_size:\n",
    "        raise ValueError(\"Invalid padding length\")\n",
    "    \n",
    "    # Verify that all padding bytes match the padding length\n",
    "    if data[-padding_length:] != bytes([padding_length]) * padding_length:\n",
    "        raise ValueError(\"Invalid padding bytes\")\n",
    "    \n",
    "    return data[:-padding_length]\n",
    "\n",
    "key = b\"YELLOW SUBMARINE\"\n",
    "plaintext = decrypt_aes_ecb(original_bytes, key)\n",
    "plaintext = unpad_pkcs7(plaintext)\n",
    "print(plaintext.decode('utf-8'))\n"
   ]
  },
  {
   "cell_type": "markdown",
   "metadata": {},
   "source": [
    "## Detect AES in ECB mode\n",
    "\n",
    "In file 8.txt are a bunch of hex-encoded ciphertexts.\n",
    "\n",
    "One of them has been encrypted with ECB.\n",
    "\n",
    "Detect it.\n",
    "\n",
    "Remember that the problem with ECB is that it is stateless and deterministic; the same 16 byte plaintext block will always produce the same 16 byte ciphertext."
   ]
  },
  {
   "cell_type": "code",
   "execution_count": 13,
   "metadata": {},
   "outputs": [
    {
     "name": "stdout",
     "output_type": "stream",
     "text": [
      "[b'\\x08d\\x9a\\xf7\\r\\xc0oO\\xd5\\xd2\\xd6\\x9ctL\\xd2\\x83', b'\\xd8\\x80a\\x97@\\xa8\\xa1\\x9bx@\\xa8\\xa3\\x1c\\x81\\n=', b'\\xe2\\xdd\\x05/kd\\x1d\\xbf\\x9d\\x11\\xb04\\x85B\\xbbW', b'\\xd4\\x03\\x18\\x0c\\x98\\xc8\\xf6\\xdb\\x1f*?\\x9c@@\\xde\\xb0', b'\\x94u\\xc9\\xdf\\xdb\\xc1\\xd4e\\x97\\x94\\x9d\\x9c~\\x82\\xbfZ', b'\\x97\\xa9>\\xab\\x8dj\\xec\\xd5fH\\x91Tx\\x9ak\\x03', b'\\xabQ\\xb2\\x993\\xf2\\xc1#\\xc5\\x83\\x86\\xb0o\\xba\\x18j']\n",
      "7\n",
      "1\n"
     ]
    }
   ],
   "source": [
    "with open('8.txt') as file:\n",
    "    lines = [bytes.fromhex(line.strip()) for line in file]\n",
    "    \n",
    "\n",
    "def is_ecb_encrypted(ciphertext: bytes, block_size: int = 16) -> bool:\n",
    "    # Split the ciphertext into blocks of the given size\n",
    "    blocks = [ciphertext[i:i + block_size] for i in range(0, len(ciphertext), block_size)]\n",
    "    \n",
    "    # Check for any repeated blocks\n",
    "    unique_blocks = set(blocks)\n",
    "    \n",
    "    # If there are fewer unique blocks than total blocks, ECB is likely used\n",
    "    if len(unique_blocks) < len(blocks):\n",
    "        print([block for block in unique_blocks])\n",
    "        print(len(unique_blocks))\n",
    "    return len(unique_blocks) < len(blocks)\n",
    "\n",
    "the_one_line = ''\n",
    "for line in lines:\n",
    "    if is_ecb_encrypted(line):\n",
    "        print(1)\n",
    "        the_one_line = line\n",
    "\n"
   ]
  }
 ],
 "metadata": {
  "kernelspec": {
   "display_name": "cryptopals-challenges-kaOzGuGr-py3.12",
   "language": "python",
   "name": "python3"
  },
  "language_info": {
   "codemirror_mode": {
    "name": "ipython",
    "version": 3
   },
   "file_extension": ".py",
   "mimetype": "text/x-python",
   "name": "python",
   "nbconvert_exporter": "python",
   "pygments_lexer": "ipython3",
   "version": "3.12.4"
  }
 },
 "nbformat": 4,
 "nbformat_minor": 2
}
